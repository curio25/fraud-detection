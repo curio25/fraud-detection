{
 "cells": [
  {
   "cell_type": "markdown",
   "id": "2ad3e9c5-14ed-45fd-b6ac-ded283968327",
   "metadata": {},
   "source": [
    "# Dependencies"
   ]
  },
  {
   "cell_type": "markdown",
   "id": "3650f825-96dc-4f46-a737-45f39db9a273",
   "metadata": {},
   "source": [
    "## Imports"
   ]
  },
  {
   "cell_type": "code",
   "execution_count": null,
   "id": "cdb975aa-31d9-4f96-859c-5bb103ecbfca",
   "metadata": {},
   "outputs": [],
   "source": []
  },
  {
   "cell_type": "markdown",
   "id": "b9bc6fcb-6e90-40ae-938e-377435c9bf84",
   "metadata": {},
   "source": [
    "# Understanding Fraud Data\n",
    "\n",
    "Fraud data typically has several unique characteristics that make it challenging to analyze and detect fraudulent activities. Understanding these common aspects is crucial when performing Exploratory Data Analysis (EDA) and developing fraud detection models. "
   ]
  },
  {
   "cell_type": "markdown",
   "id": "7e05099c-b8da-482c-aa74-f16a057f4ce3",
   "metadata": {},
   "source": [
    "## Imbalanced Data\n",
    "\n",
    "- Class Imbalance: Fraud cases are usually rare compared to legitimate cases, leading to a highly imbalanced dataset. For example, in credit card fraud detection, fraudulent transactions might make up less than 1% of the total transactions.\n",
    "- Impact on Modeling: This imbalance can skew the performance of machine learning models, making it essential to use techniques like resampling, SMOTE, or cost-sensitive learning to handle the imbalance."
   ]
  },
  {
   "cell_type": "code",
   "execution_count": null,
   "id": "7426bc3f-bf1d-4630-b78e-113f489c1f24",
   "metadata": {},
   "outputs": [],
   "source": []
  }
 ],
 "metadata": {
  "kernelspec": {
   "display_name": "conda_python3",
   "language": "python",
   "name": "conda_python3"
  },
  "language_info": {
   "codemirror_mode": {
    "name": "ipython",
    "version": 3
   },
   "file_extension": ".py",
   "mimetype": "text/x-python",
   "name": "python",
   "nbconvert_exporter": "python",
   "pygments_lexer": "ipython3",
   "version": "3.10.14"
  }
 },
 "nbformat": 4,
 "nbformat_minor": 5
}
