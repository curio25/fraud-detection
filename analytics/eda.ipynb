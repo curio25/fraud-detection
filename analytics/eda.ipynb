{
 "cells": [
  {
   "cell_type": "markdown",
   "id": "2ad3e9c5-14ed-45fd-b6ac-ded283968327",
   "metadata": {},
   "source": [
    "**Pre-Requisites**\n",
    "======================================================="
   ]
  },
  {
   "cell_type": "markdown",
   "id": "f23b7cc3-0f1f-4209-a125-90b2e740a779",
   "metadata": {},
   "source": [
    "**Dependencies**\n",
    "-------------"
   ]
  },
  {
   "cell_type": "code",
   "execution_count": 6,
   "id": "26e27407-9e6c-4cde-b16e-b5310bd7fc2f",
   "metadata": {
    "collapsed": true,
    "jupyter": {
     "outputs_hidden": true
    },
    "tags": []
   },
   "outputs": [
    {
     "name": "stdout",
     "output_type": "stream",
     "text": [
      "Collecting kaggle\n",
      "  Using cached kaggle-1.6.17-py3-none-any.whl\n",
      "Requirement already satisfied: six>=1.10 in /home/ec2-user/anaconda3/envs/python3/lib/python3.10/site-packages (from kaggle) (1.16.0)\n",
      "Requirement already satisfied: certifi>=2023.7.22 in /home/ec2-user/anaconda3/envs/python3/lib/python3.10/site-packages (from kaggle) (2024.7.4)\n",
      "Requirement already satisfied: python-dateutil in /home/ec2-user/anaconda3/envs/python3/lib/python3.10/site-packages (from kaggle) (2.9.0)\n",
      "Requirement already satisfied: requests in /home/ec2-user/anaconda3/envs/python3/lib/python3.10/site-packages (from kaggle) (2.32.3)\n",
      "Requirement already satisfied: tqdm in /home/ec2-user/anaconda3/envs/python3/lib/python3.10/site-packages (from kaggle) (4.66.4)\n",
      "Requirement already satisfied: python-slugify in /home/ec2-user/anaconda3/envs/python3/lib/python3.10/site-packages (from kaggle) (8.0.4)\n",
      "Requirement already satisfied: urllib3 in /home/ec2-user/anaconda3/envs/python3/lib/python3.10/site-packages (from kaggle) (2.2.2)\n",
      "Requirement already satisfied: bleach in /home/ec2-user/anaconda3/envs/python3/lib/python3.10/site-packages (from kaggle) (6.1.0)\n",
      "Requirement already satisfied: webencodings in /home/ec2-user/anaconda3/envs/python3/lib/python3.10/site-packages (from bleach->kaggle) (0.5.1)\n",
      "Requirement already satisfied: text-unidecode>=1.3 in /home/ec2-user/anaconda3/envs/python3/lib/python3.10/site-packages (from python-slugify->kaggle) (1.3)\n",
      "Requirement already satisfied: charset-normalizer<4,>=2 in /home/ec2-user/anaconda3/envs/python3/lib/python3.10/site-packages (from requests->kaggle) (3.3.2)\n",
      "Requirement already satisfied: idna<4,>=2.5 in /home/ec2-user/anaconda3/envs/python3/lib/python3.10/site-packages (from requests->kaggle) (3.7)\n",
      "Installing collected packages: kaggle\n",
      "Successfully installed kaggle-1.6.17\n"
     ]
    }
   ],
   "source": [
    "!pip install kaggle"
   ]
  },
  {
   "cell_type": "code",
   "execution_count": 21,
   "id": "39d36872-deb1-4ce5-a132-18121e65b366",
   "metadata": {
    "collapsed": true,
    "jupyter": {
     "outputs_hidden": true
    },
    "tags": []
   },
   "outputs": [
    {
     "name": "stdout",
     "output_type": "stream",
     "text": [
      "Requirement already satisfied: pandas in /home/ec2-user/anaconda3/envs/python3/lib/python3.10/site-packages (2.2.2)\n",
      "Requirement already satisfied: matplotlib in /home/ec2-user/anaconda3/envs/python3/lib/python3.10/site-packages (3.8.4)\n",
      "Requirement already satisfied: seaborn in /home/ec2-user/anaconda3/envs/python3/lib/python3.10/site-packages (0.13.2)\n",
      "Requirement already satisfied: numpy>=1.22.4 in /home/ec2-user/anaconda3/envs/python3/lib/python3.10/site-packages (from pandas) (1.22.4)\n",
      "Requirement already satisfied: python-dateutil>=2.8.2 in /home/ec2-user/anaconda3/envs/python3/lib/python3.10/site-packages (from pandas) (2.9.0)\n",
      "Requirement already satisfied: pytz>=2020.1 in /home/ec2-user/anaconda3/envs/python3/lib/python3.10/site-packages (from pandas) (2024.1)\n",
      "Requirement already satisfied: tzdata>=2022.7 in /home/ec2-user/anaconda3/envs/python3/lib/python3.10/site-packages (from pandas) (2024.1)\n",
      "Requirement already satisfied: contourpy>=1.0.1 in /home/ec2-user/anaconda3/envs/python3/lib/python3.10/site-packages (from matplotlib) (1.2.1)\n",
      "Requirement already satisfied: cycler>=0.10 in /home/ec2-user/anaconda3/envs/python3/lib/python3.10/site-packages (from matplotlib) (0.12.1)\n",
      "Requirement already satisfied: fonttools>=4.22.0 in /home/ec2-user/anaconda3/envs/python3/lib/python3.10/site-packages (from matplotlib) (4.53.1)\n",
      "Requirement already satisfied: kiwisolver>=1.3.1 in /home/ec2-user/anaconda3/envs/python3/lib/python3.10/site-packages (from matplotlib) (1.4.5)\n",
      "Requirement already satisfied: packaging>=20.0 in /home/ec2-user/anaconda3/envs/python3/lib/python3.10/site-packages (from matplotlib) (21.3)\n",
      "Requirement already satisfied: pillow>=8 in /home/ec2-user/anaconda3/envs/python3/lib/python3.10/site-packages (from matplotlib) (10.4.0)\n",
      "Requirement already satisfied: pyparsing>=2.3.1 in /home/ec2-user/anaconda3/envs/python3/lib/python3.10/site-packages (from matplotlib) (3.1.2)\n",
      "Requirement already satisfied: six>=1.5 in /home/ec2-user/anaconda3/envs/python3/lib/python3.10/site-packages (from python-dateutil>=2.8.2->pandas) (1.16.0)\n"
     ]
    }
   ],
   "source": [
    "!pip install pandas matplotlib seaborn"
   ]
  },
  {
   "cell_type": "markdown",
   "id": "3650f825-96dc-4f46-a737-45f39db9a273",
   "metadata": {},
   "source": [
    "**Imports**\n",
    "-------------"
   ]
  },
  {
   "cell_type": "code",
   "execution_count": 11,
   "id": "cdb975aa-31d9-4f96-859c-5bb103ecbfca",
   "metadata": {
    "tags": []
   },
   "outputs": [],
   "source": [
    "import os\n",
    "import json"
   ]
  },
  {
   "cell_type": "code",
   "execution_count": 20,
   "id": "7305fa66-6f65-49ff-b973-afc5cad2e4a0",
   "metadata": {
    "tags": []
   },
   "outputs": [
    {
     "name": "stderr",
     "output_type": "stream",
     "text": [
      "/home/ec2-user/anaconda3/envs/python3/lib/python3.10/site-packages/seaborn/_statistics.py:32: UserWarning: A NumPy version >=1.23.5 and <2.3.0 is required for this version of SciPy (detected version 1.22.4)\n",
      "  from scipy.stats import gaussian_kde\n"
     ]
    }
   ],
   "source": [
    "import pandas as pd\n",
    "import matplotlib.pyplot as plt\n",
    "import seaborn as sns"
   ]
  },
  {
   "cell_type": "markdown",
   "id": "71146979-4011-4e8c-90f3-80bbc985244c",
   "metadata": {},
   "source": [
    "**Exploratory Data Analysis (EDA) for Fraud Detection**\n",
    "======================================================="
   ]
  },
  {
   "cell_type": "markdown",
   "id": "ea506f28-1798-4030-bb97-5ed07a4c969d",
   "metadata": {},
   "source": [
    "**Data Sets**\n",
    "-------------\n",
    "\n",
    "In this project, we explore various datasets related to fraud detection across different financial domains. Each dataset presents unique challenges and opportunities for analysis, making them valuable for understanding and developing fraud detection systems. Below are the datasets currently included in this project:\n",
    "\n",
    "### 1\\. **PaySim Mobile Money Transaction Dataset**\n",
    "\n",
    "*   **Source**: [Kaggle - PaySim1](https://www.kaggle.com/datasets/ealaxi/paysim1)\n",
    "    \n",
    "*   **Description**: Simulated mobile money transactions based on real-world financial data. It includes a large number of transactions with a small fraction labeled as fraud, ideal for exploring imbalanced data and anomaly detection in mobile financial services.\n",
    "    \n",
    "*   **Key Features**: Transaction types (e.g., payment, transfer), transaction amounts, timestamps, fraud labels.\n",
    "    \n",
    "*   **Challenges**: Handling imbalanced data, detecting anomalies in transaction sequences.\n",
    "    \n",
    "\n",
    "### 2\\. **Credit Card Approval Prediction Dataset**\n",
    "\n",
    "*   **Source**: [Kaggle - Credit Card Approval Prediction](https://www.kaggle.com/datasets/rikdifos/credit-card-approval-prediction)\n",
    "    \n",
    "*   **Description**: Contains features relevant to credit card approval decisions, including personal and financial information, useful for understanding feature interactions and the effects of categorical and numerical data on fraud prediction models.\n",
    "    \n",
    "*   **Key Features**: Personal demographics, financial data (e.g., income, credit score), application status.\n",
    "    \n",
    "*   **Challenges**: Balancing categorical and numerical data, addressing feature interactions and high dimensionality.\n",
    "    \n",
    "\n",
    "### 3\\. **Banking Dataset - Marketing Targets**\n",
    "\n",
    "*   **Source**: [Kaggle - Banking Dataset Marketing Targets](https://www.kaggle.com/datasets/prakharrathi25/banking-dataset-marketing-targets)\n",
    "    \n",
    "*   **Description**: Focuses on direct marketing campaigns of a banking institution, including customer information and campaign outcomes, which can be leveraged to predict customer responses and detect anomalies in marketing-related fraud.\n",
    "    \n",
    "*   **Key Features**: Customer demographics, campaign details, response to marketing efforts.\n",
    "    \n",
    "*   **Challenges**: Handling large volumes of categorical data, analyzing dynamic customer behavior over time.\n",
    "    \n",
    "\n",
    "### 4\\. **Loan Prediction Dataset**\n",
    "\n",
    "*   **Source**: [Kaggle - Loan Prediction Based on Customer Behavior](https://www.kaggle.com/datasets/subhamjain/loan-prediction-based-on-customer-behavior?select=Training+Data.csv)\n",
    "    \n",
    "*   **Description**: Provides information on customer loan applications, including details about the applicants and whether their loans were approved, valuable for exploring the correlation between customer behavior and loan approval, and identifying fraudulent loan applications.\n",
    "    \n",
    "*   **Key Features**: Customer demographics and income, loan application details, loan status.\n",
    "    \n",
    "*   **Challenges**: Analyzing correlated features, addressing label noise in approved vs. rejected applications.\n",
    "    \n",
    "\n",
    "### 5\\. **Vehicle Claim Fraud Detection Dataset**\n",
    "\n",
    "*   **Source**: [Kaggle - Vehicle Claim Fraud Detection](https://www.kaggle.com/datasets/shivamb/vehicle-claim-fraud-detection)\n",
    "    \n",
    "*   **Description**: Centered around vehicle insurance claims with the objective of identifying fraudulent claims, includes a variety of features related to the claims and vehicles involved, ideal for studying noisy data and detecting fraudulent patterns.\n",
    "    \n",
    "*   **Key Features**: Claim details (e.g., claim amount, date), vehicle information, fraud labels.\n",
    "    \n",
    "*   **Challenges**: Dealing with noisy and possibly encrypted data, identifying patterns in categorical and numerical data."
   ]
  },
  {
   "cell_type": "code",
   "execution_count": 15,
   "id": "2b8714c3-9863-4d3e-8257-625682940a14",
   "metadata": {
    "collapsed": true,
    "jupyter": {
     "outputs_hidden": true
    },
    "tags": []
   },
   "outputs": [
    {
     "name": "stdout",
     "output_type": "stream",
     "text": [
      "Dataset URL: https://www.kaggle.com/datasets/ealaxi/paysim1\n",
      "License(s): CC-BY-SA-4.0\n",
      "Downloading paysim1.zip to datasets/paysim1\n"
     ]
    },
    {
     "name": "stderr",
     "output_type": "stream",
     "text": [
      "100%|██████████| 178M/178M [00:00<00:00, 292MB/s] \n"
     ]
    },
    {
     "name": "stdout",
     "output_type": "stream",
     "text": [
      "\n",
      "Downloaded and extracted paysim1 dataset to datasets/paysim1\n",
      "Dataset URL: https://www.kaggle.com/datasets/rikdifos/credit-card-approval-prediction\n",
      "License(s): CC0-1.0\n",
      "Downloading credit-card-approval-prediction.zip to datasets/credit_card_approval_prediction\n"
     ]
    },
    {
     "name": "stderr",
     "output_type": "stream",
     "text": [
      "100%|██████████| 5.32M/5.32M [00:00<00:00, 201MB/s]\n"
     ]
    },
    {
     "name": "stdout",
     "output_type": "stream",
     "text": [
      "\n",
      "Downloaded and extracted credit_card_approval_prediction dataset to datasets/credit_card_approval_prediction\n",
      "Dataset URL: https://www.kaggle.com/datasets/prakharrathi25/banking-dataset-marketing-targets\n",
      "License(s): CC0-1.0\n",
      "Downloading banking-dataset-marketing-targets.zip to datasets/banking_dataset_marketing_targets\n",
      "\n",
      "Downloaded and extracted banking_dataset_marketing_targets dataset to datasets/banking_dataset_marketing_targets\n"
     ]
    },
    {
     "name": "stderr",
     "output_type": "stream",
     "text": [
      "100%|██████████| 576k/576k [00:00<00:00, 34.0MB/s]\n"
     ]
    },
    {
     "name": "stdout",
     "output_type": "stream",
     "text": [
      "Dataset URL: https://www.kaggle.com/datasets/subhamjain/loan-prediction-based-on-customer-behavior\n",
      "License(s): other\n",
      "Downloading loan-prediction-based-on-customer-behavior.zip to datasets/loan_prediction\n"
     ]
    },
    {
     "name": "stderr",
     "output_type": "stream",
     "text": [
      "100%|██████████| 5.15M/5.15M [00:00<00:00, 52.1MB/s]\n"
     ]
    },
    {
     "name": "stdout",
     "output_type": "stream",
     "text": [
      "\n",
      "Downloaded and extracted loan_prediction dataset to datasets/loan_prediction\n",
      "Dataset URL: https://www.kaggle.com/datasets/shivamb/vehicle-claim-fraud-detection\n",
      "License(s): CC0-1.0\n",
      "Downloading vehicle-claim-fraud-detection.zip to datasets/vehicle_claim_fraud_detection\n",
      "\n",
      "Downloaded and extracted vehicle_claim_fraud_detection dataset to datasets/vehicle_claim_fraud_detection\n",
      "Downloaded datasets and their contents:\n",
      "\n",
      "Contents of paysim1:\n",
      "['PS_20174392719_1491204439457_log.csv']\n",
      "\n",
      "Contents of credit_card_approval_prediction:\n",
      "['credit_record.csv', 'application_record.csv']\n",
      "\n",
      "Contents of banking_dataset_marketing_targets:\n",
      "['train.csv', 'test.csv']\n",
      "\n",
      "Contents of loan_prediction:\n",
      "['Test Data.csv', 'Sample Prediction Dataset.csv', 'Training Data.csv']\n",
      "\n",
      "Contents of vehicle_claim_fraud_detection:\n",
      "['fraud_oracle.csv']\n"
     ]
    },
    {
     "name": "stderr",
     "output_type": "stream",
     "text": [
      "100%|██████████| 348k/348k [00:00<00:00, 23.2MB/s]\n"
     ]
    }
   ],
   "source": [
    "os.environ['KAGGLE_CONFIG_DIR'] = os.path.expanduser('~/.kaggle')\n",
    "\n",
    "datasets = {\n",
    "    \"paysim1\": \"ealaxi/paysim1\",\n",
    "    \"credit_card_approval_prediction\": \"rikdifos/credit-card-approval-prediction\",\n",
    "    \"banking_dataset_marketing_targets\": \"prakharrathi25/banking-dataset-marketing-targets\",\n",
    "    \"loan_prediction\": \"subhamjain/loan-prediction-based-on-customer-behavior\",\n",
    "    \"vehicle_claim_fraud_detection\": \"shivamb/vehicle-claim-fraud-detection\"\n",
    "}\n",
    "\n",
    "base_dir = \"datasets\"\n",
    "\n",
    "if not os.path.exists(base_dir):\n",
    "    os.makedirs(base_dir)\n",
    "\n",
    "def download_and_unzip_dataset(dataset_name, dataset_path):\n",
    "    dataset_dir = os.path.join(base_dir, dataset_name)\n",
    "    if not os.path.exists(dataset_dir):\n",
    "        os.makedirs(dataset_dir)\n",
    "    os.system(f\"kaggle datasets download -d {dataset_path} -p {dataset_dir} --unzip\")\n",
    "    print(f\"Downloaded and extracted {dataset_name} dataset to {dataset_dir}\")\n",
    "\n",
    "for name, path in datasets.items():\n",
    "    download_and_unzip_dataset(name, path)\n",
    "\n",
    "print(\"Downloaded datasets and their contents:\")\n",
    "for dataset_name in datasets.keys():\n",
    "    dataset_dir = os.path.join(base_dir, dataset_name)\n",
    "    print(f\"\\nContents of {dataset_name}:\")\n",
    "    print(os.listdir(dataset_dir))"
   ]
  },
  {
   "cell_type": "code",
   "execution_count": 28,
   "id": "850708d7-d49b-42c1-adfe-025b65ff59e3",
   "metadata": {
    "tags": []
   },
   "outputs": [
    {
     "data": {
      "text/html": [
       "<div>\n",
       "<style scoped>\n",
       "    .dataframe tbody tr th:only-of-type {\n",
       "        vertical-align: middle;\n",
       "    }\n",
       "\n",
       "    .dataframe tbody tr th {\n",
       "        vertical-align: top;\n",
       "    }\n",
       "\n",
       "    .dataframe thead th {\n",
       "        text-align: right;\n",
       "    }\n",
       "</style>\n",
       "<table border=\"1\" class=\"dataframe\">\n",
       "  <thead>\n",
       "    <tr style=\"text-align: right;\">\n",
       "      <th></th>\n",
       "      <th>step</th>\n",
       "      <th>type</th>\n",
       "      <th>amount</th>\n",
       "      <th>nameOrig</th>\n",
       "      <th>oldbalanceOrg</th>\n",
       "      <th>newbalanceOrig</th>\n",
       "      <th>nameDest</th>\n",
       "      <th>oldbalanceDest</th>\n",
       "      <th>newbalanceDest</th>\n",
       "      <th>isFraud</th>\n",
       "      <th>isFlaggedFraud</th>\n",
       "    </tr>\n",
       "  </thead>\n",
       "  <tbody>\n",
       "    <tr>\n",
       "      <th>0</th>\n",
       "      <td>1</td>\n",
       "      <td>PAYMENT</td>\n",
       "      <td>9839.64</td>\n",
       "      <td>C1231006815</td>\n",
       "      <td>170136.0</td>\n",
       "      <td>160296.36</td>\n",
       "      <td>M1979787155</td>\n",
       "      <td>0.0</td>\n",
       "      <td>0.0</td>\n",
       "      <td>0</td>\n",
       "      <td>0</td>\n",
       "    </tr>\n",
       "    <tr>\n",
       "      <th>1</th>\n",
       "      <td>1</td>\n",
       "      <td>PAYMENT</td>\n",
       "      <td>1864.28</td>\n",
       "      <td>C1666544295</td>\n",
       "      <td>21249.0</td>\n",
       "      <td>19384.72</td>\n",
       "      <td>M2044282225</td>\n",
       "      <td>0.0</td>\n",
       "      <td>0.0</td>\n",
       "      <td>0</td>\n",
       "      <td>0</td>\n",
       "    </tr>\n",
       "    <tr>\n",
       "      <th>2</th>\n",
       "      <td>1</td>\n",
       "      <td>TRANSFER</td>\n",
       "      <td>181.00</td>\n",
       "      <td>C1305486145</td>\n",
       "      <td>181.0</td>\n",
       "      <td>0.00</td>\n",
       "      <td>C553264065</td>\n",
       "      <td>0.0</td>\n",
       "      <td>0.0</td>\n",
       "      <td>1</td>\n",
       "      <td>0</td>\n",
       "    </tr>\n",
       "    <tr>\n",
       "      <th>3</th>\n",
       "      <td>1</td>\n",
       "      <td>CASH_OUT</td>\n",
       "      <td>181.00</td>\n",
       "      <td>C840083671</td>\n",
       "      <td>181.0</td>\n",
       "      <td>0.00</td>\n",
       "      <td>C38997010</td>\n",
       "      <td>21182.0</td>\n",
       "      <td>0.0</td>\n",
       "      <td>1</td>\n",
       "      <td>0</td>\n",
       "    </tr>\n",
       "    <tr>\n",
       "      <th>4</th>\n",
       "      <td>1</td>\n",
       "      <td>PAYMENT</td>\n",
       "      <td>11668.14</td>\n",
       "      <td>C2048537720</td>\n",
       "      <td>41554.0</td>\n",
       "      <td>29885.86</td>\n",
       "      <td>M1230701703</td>\n",
       "      <td>0.0</td>\n",
       "      <td>0.0</td>\n",
       "      <td>0</td>\n",
       "      <td>0</td>\n",
       "    </tr>\n",
       "  </tbody>\n",
       "</table>\n",
       "</div>"
      ],
      "text/plain": [
       "   step      type    amount     nameOrig  oldbalanceOrg  newbalanceOrig  \\\n",
       "0     1   PAYMENT   9839.64  C1231006815       170136.0       160296.36   \n",
       "1     1   PAYMENT   1864.28  C1666544295        21249.0        19384.72   \n",
       "2     1  TRANSFER    181.00  C1305486145          181.0            0.00   \n",
       "3     1  CASH_OUT    181.00   C840083671          181.0            0.00   \n",
       "4     1   PAYMENT  11668.14  C2048537720        41554.0        29885.86   \n",
       "\n",
       "      nameDest  oldbalanceDest  newbalanceDest  isFraud  isFlaggedFraud  \n",
       "0  M1979787155             0.0             0.0        0               0  \n",
       "1  M2044282225             0.0             0.0        0               0  \n",
       "2   C553264065             0.0             0.0        1               0  \n",
       "3    C38997010         21182.0             0.0        1               0  \n",
       "4  M1230701703             0.0             0.0        0               0  "
      ]
     },
     "execution_count": 28,
     "metadata": {},
     "output_type": "execute_result"
    }
   ],
   "source": [
    "dataset_path_1 = \"./analytics/datasets/paysim1/PS_20174392719_1491204439457_log.csv\"\n",
    "df_1 = pd.read_csv(dataset_path_1)\n",
    "df_1.head()"
   ]
  },
  {
   "cell_type": "markdown",
   "id": "f37eae85-d4ee-4989-9f75-694200f9e688",
   "metadata": {
    "tags": []
   },
   "source": [
    "**Common Aspects of Fraud Data**\n",
    "--------------------\n",
    "\n",
    "Fraud data typically has several unique characteristics that make it challenging to analyze and detect fraudulent activities. Understanding these common aspects is crucial when performing Exploratory Data Analysis (EDA) and developing fraud detection models.\n",
    "\n",
    "### 1\\. **Imbalanced Data**\n",
    "\n",
    "In fraud detection, one of the most common challenges is the imbalance between the number of fraudulent and non-fraudulent transactions. Typically, the number of legitimate transactions far exceeds the number of fraudulent ones, which can lead to biased models that favor the majority class. This imbalance can skew the performance of machine learning models, making it essential to use techniques like resampling, SMOTE, or cost-sensitive learning to handle the imbalance."
   ]
  },
  {
   "cell_type": "code",
   "execution_count": 35,
   "id": "eef0e322-beeb-4da4-99b0-051ac2736bab",
   "metadata": {
    "tags": []
   },
   "outputs": [
    {
     "data": {
      "image/png": "[encoded data removed]",
      "text/plain": [
       "<Figure size 400x300 with 1 Axes>"
      ]
     },
     "metadata": {},
     "output_type": "display_data"
    },
    {
     "name": "stdout",
     "output_type": "stream",
     "text": [
      "Class Distribution (Percentages):\n",
      "isFraud\n",
      "0    99.870918\n",
      "1     0.129082\n",
      "Name: count, dtype: float64\n",
      "Class Distribution (Counts):\n",
      "isFraud\n",
      "0    6354407\n",
      "1       8213\n",
      "Name: count, dtype: int64\n"
     ]
    }
   ],
   "source": [
    "class_distribution = df_1['isFraud'].value_counts()\n",
    "\n",
    "plot_data = df_1['isFraud'].value_counts().reset_index()\n",
    "plot_data.columns = ['isFraud', 'count']\n",
    "\n",
    "plt.figure(figsize=(4,3))\n",
    "sns.barplot(x='isFraud', y='count', hue='isFraud', data=plot_data, palette='viridis', dodge=False, legend=False)\n",
    "plt.title('Class Distribution (Fraud vs. Non-Fraud)')\n",
    "plt.xlabel('Class')\n",
    "plt.ylabel('Number of Transactions')\n",
    "plt.xticks([0, 1], ['Non-Fraud', 'Fraud'])\n",
    "plt.show()\n",
    "\n",
    "print(\"Class Distribution (Percentages):\")\n",
    "print(class_distribution / len(df_1) * 100)\n",
    "\n",
    "\n",
    "print(\"Class Distribution (Counts):\")\n",
    "print(df_1['isFraud'].value_counts())"
   ]
  },
  {
   "cell_type": "markdown",
   "id": "8f380edb-7fe5-4e49-8b0e-5908c3376daf",
   "metadata": {
    "tags": []
   },
   "source": [
    "This plot shows the stark difference in the number of non-fraudulent vs. fraudulent transactions. Typically, fraudulent transactions constitute a very small percentage of the overall data. Data imbalance can lead to several issues in model training:\n",
    "\n",
    "*   **Biased Predictions**: The model may be biased towards predicting the majority class (non-fraudulent transactions), leading to poor detection of fraud.\n",
    "    \n",
    "*   **Poor Recall for Fraud**: While the overall accuracy might seem high, the recall (ability to correctly identify fraud cases) will likely be low.\n",
    "    \n",
    "\n",
    "To address these challenges, it's important to consider strategies such as:\n",
    "\n",
    "1.   **Resampling**: Techniques like oversampling the minority class (e.g., using SMOTE) or undersampling the majority class to balance the data."
   ]
  },
  {
   "cell_type": "code",
   "execution_count": 34,
   "id": "03487da2-0eb9-4314-96ba-5c04d104e3e6",
   "metadata": {
    "tags": []
   },
   "outputs": [
    {
     "name": "stdout",
     "output_type": "stream",
     "text": [
      "Class Distribution After Undersampling:\n",
      "isFraud\n",
      "1    8213\n",
      "0    8213\n",
      "Name: count, dtype: int64\n"
     ]
    },
    {
     "name": "stderr",
     "output_type": "stream",
     "text": [
      "/tmp/ipykernel_16350/759770370.py:16: FutureWarning: \n",
      "\n",
      "Passing `palette` without assigning `hue` is deprecated and will be removed in v0.14.0. Assign the `x` variable to `hue` and set `legend=False` for the same effect.\n",
      "\n",
      "  sns.barplot(x=df_1_downsampled['isFraud'].value_counts().index,\n"
     ]
    },
    {
     "data": {
      "image/png": "[encoded data removed]",
      "text/plain": [
       "<Figure size 400x300 with 1 Axes>"
      ]
     },
     "metadata": {},
     "output_type": "display_data"
    }
   ],
   "source": [
    "from sklearn.utils import resample\n",
    "\n",
    "df_1_majority = df_1[df_1['isFraud']==0]\n",
    "df_1_minority = df_1[df_1['isFraud']==1]\n",
    "\n",
    "df_1_majority_downsampled = resample(df_1_majority, \n",
    "                                   replace=False,    \n",
    "                                   n_samples=len(df_1_minority), \n",
    "                                   random_state=42)\n",
    "\n",
    "df_1_downsampled = pd.concat([df_1_minority, df_1_majority_downsampled])\n",
    "print(\"Class Distribution After Undersampling:\")\n",
    "print(df_1_downsampled['isFraud'].value_counts())\n",
    "\n",
    "plt.figure(figsize=(4, 3))\n",
    "sns.barplot(x=df_1_downsampled['isFraud'].value_counts().index, \n",
    "            y=df_1_downsampled['isFraud'].value_counts().values, palette='viridis')\n",
    "plt.title('Class Distribution After Undersampling')\n",
    "plt.xlabel('Class')\n",
    "plt.ylabel('Number of Transactions')\n",
    "plt.xticks([0, 1], ['Non-Fraud', 'Fraud'])\n",
    "plt.show()\n"
   ]
  },
  {
   "cell_type": "markdown",
   "id": "bd1e21fd-ba16-43e3-8309-6874d67a0bef",
   "metadata": {
    "tags": []
   },
   "source": [
    "    \n",
    "*   **Class Weights**: Assigning higher weights to the minority class during model training to make the model pay more attention to the minority class.\n",
    "    \n",
    "*   **Ensemble Methods**: Using ensemble techniques that are better suited for imbalanced data."
   ]
  },
  {
   "cell_type": "markdown",
   "id": "d49bd342-1117-40b7-bb84-4833282d9cea",
   "metadata": {
    "tags": []
   },
   "source": [
    "*   **High Dimensionality**\n",
    "    \n",
    "    *   **Numerous Features:** Fraud detection datasets often have many features, including transaction details, customer demographics, behavioral data, etc. This can make the analysis complex and may require dimensionality reduction techniques.\n",
    "        \n",
    "    *   **Sparse Data:** Despite having many features, not all features may be relevant or populated for every transaction, leading to sparse data.\n",
    "        \n",
    "*   **Anomalous Patterns**\n",
    "    \n",
    "    *   **Outliers:** Fraud data often contains outliers that do not conform to the usual pattern of legitimate transactions. These outliers might be in terms of transaction amount, frequency, or location.\n",
    "        \n",
    "    *   **Behavioral Anomalies:** Changes in user behavior, such as sudden spending spikes or transactions from unusual locations, are common indicators of fraud.\n",
    "        \n",
    "*   **Correlated Features**\n",
    "    \n",
    "    *   **Feature Correlation:** Many features in fraud data might be correlated. For instance, the time and amount of transactions could be correlated with fraudulent activity.\n",
    "        \n",
    "    *   **Multicollinearity:** High correlation among independent variables can complicate the analysis and model building, requiring techniques like PCA or VIF to address multicollinearity.\n",
    "        \n",
    "*   **Noisy Data**\n",
    "    \n",
    "    *   **Data Quality Issues:** Fraud data often comes with a lot of noise, such as incorrect data entries, missing values, or irrelevant features, which can obscure the detection of fraudulent activities.\n",
    "        \n",
    "    *   **Need for Preprocessing:** Extensive data cleaning and preprocessing are usually required to handle noise and improve data quality.\n",
    "        \n",
    "*   **Feature Interactions**\n",
    "    \n",
    "    *   **Complex Relationships:** Fraud detection often involves complex interactions between features, such as the relationship between transaction amount, location, and time.\n",
    "        \n",
    "    *   **Derived Features:** Feature engineering, such as creating ratio features, aggregating transactions over time, or calculating user-specific metrics, is crucial to capture these interactions.\n",
    "        \n",
    "*   **Dynamic Behavior**\n",
    "    \n",
    "    *   **Evolving Fraud Techniques:** Fraudsters often change their tactics, leading to changes in the patterns of fraudulent activities over time. This necessitates continuous monitoring and updating of detection models.\n",
    "        \n",
    "    *   **Concept Drift:** The underlying distribution of fraud data may change over time, known as concept drift, which requires adaptive models and continuous learning.\n",
    "        \n",
    "*   **Anonymized or Encrypted Data**\n",
    "    \n",
    "    *   **Data Privacy:** Fraud datasets, especially in industries like finance, often anonymize or encrypt sensitive features like customer IDs or transaction details to protect privacy. This can make it challenging to directly analyze and interpret the data.\n",
    "        \n",
    "    *   **Limited Feature Set:** Due to privacy concerns, certain potentially informative features may not be available, necessitating more creative feature engineering.\n",
    "        \n",
    "*   **Categorical Data**\n",
    "    \n",
    "    *   **Categorical Variables:** Fraud data often contains categorical features such as transaction type, location, or customer segment. These need to be carefully encoded and analyzed to detect patterns.\n",
    "        \n",
    "    *   **High Cardinality:** Some categorical variables may have high cardinality (e.g., many unique values), which can complicate analysis and model training.\n",
    "        \n",
    "*   **Multiple Data Sources**\n",
    "    \n",
    "    *   **Heterogeneous Data:** Fraud detection often involves combining data from multiple sources, such as transaction logs, customer profiles, and external data like geolocation or IP addresses.\n",
    "        \n",
    "    *   **Data Integration Challenges:** Integrating these diverse data sources can be challenging due to differences in formats, granularity, and quality.\n",
    "        \n",
    "*   **Label Noise**\n",
    "    \n",
    "    *   **Incorrect Labels:** In fraud datasets, there might be instances where fraudulent transactions are mislabeled as legitimate and vice versa, leading to label noise.\n",
    "        \n",
    "    *   **Impact on Model Training:** Label noise can significantly impact the performance of machine learning models, making it crucial to apply techniques to identify and correct mislabeled data."
   ]
  },
  {
   "cell_type": "code",
   "execution_count": null,
   "id": "60c606e4-c48b-4561-8cc8-c392d7a23105",
   "metadata": {},
   "outputs": [],
   "source": []
  },
  {
   "cell_type": "code",
   "execution_count": null,
   "id": "7426bc3f-bf1d-4630-b78e-113f489c1f24",
   "metadata": {},
   "outputs": [],
   "source": []
  }
 ],
 "metadata": {
  "kernelspec": {
   "display_name": "conda_python3",
   "language": "python",
   "name": "conda_python3"
  },
  "language_info": {
   "codemirror_mode": {
    "name": "ipython",
    "version": 3
   },
   "file_extension": ".py",
   "mimetype": "text/x-python",
   "name": "python",
   "nbconvert_exporter": "python",
   "pygments_lexer": "ipython3",
   "version": "3.10.14"
  }
 },
 "nbformat": 4,
 "nbformat_minor": 5
}
